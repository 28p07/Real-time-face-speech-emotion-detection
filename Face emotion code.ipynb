{
 "cells": [
  {
   "cell_type": "markdown",
   "id": "81bd71c3",
   "metadata": {},
   "source": [
    "### Importing Libraries"
   ]
  },
  {
   "cell_type": "code",
   "execution_count": 13,
   "id": "99adc11d",
   "metadata": {},
   "outputs": [],
   "source": [
    "import matplotlib.pyplot as plt\n",
    "from glob import glob\n",
    "import cv2 as cv\n",
    "import random\n",
    "import os\n",
    "\n",
    "\n",
    "from tensorflow.keras.preprocessing.image import ImageDataGenerator\n",
    "from tensorflow.keras.layers import Dense,Input,Dropout,Flatten,Conv2D\n",
    "from tensorflow.keras.layers import BatchNormalization,MaxPooling2D,Activation\n",
    "from tensorflow.keras.models import Model,Sequential\n",
    "from tensorflow.keras.optimizers import Adam\n",
    "from tensorflow.keras.callbacks import ModelCheckpoint,ReduceLROnPlateau\n",
    "from tensorflow.keras.utils import plot_model\n",
    "from IPython.display import SVG,Image"
   ]
  },
  {
   "cell_type": "markdown",
   "id": "27ef392b",
   "metadata": {},
   "source": [
    "### Preparing dataset"
   ]
  },
  {
   "cell_type": "code",
   "execution_count": 14,
   "id": "77e1b53b",
   "metadata": {},
   "outputs": [
    {
     "name": "stdout",
     "output_type": "stream",
     "text": [
      "Found 28709 images belonging to 7 classes.\n",
      "Found 7177 images belonging to 7 classes.\n"
     ]
    }
   ],
   "source": [
    "img_size = 48\n",
    "batch_size = 128\n",
    "\n",
    "datagen_train = ImageDataGenerator(horizontal_flip=True)\n",
    "train_generator = datagen_train.flow_from_directory(\"fer 2013/train\",\n",
    "                                                   target_size = (img_size,img_size),\n",
    "                                                   color_mode = \"grayscale\",\n",
    "                                                   batch_size = batch_size,\n",
    "                                                   class_mode = \"categorical\",\n",
    "                                                   shuffle = True)\n",
    "\n",
    "datagen_validation = ImageDataGenerator(horizontal_flip=True)\n",
    "validation_generator = datagen_validation.flow_from_directory(\"fer 2013/test\",\n",
    "                                                   target_size = (img_size,img_size),\n",
    "                                                   color_mode = \"grayscale\",\n",
    "                                                   batch_size = batch_size,\n",
    "                                                   class_mode = \"categorical\",\n",
    "                                                   shuffle = True)"
   ]
  },
  {
   "cell_type": "markdown",
   "id": "9b74fd32",
   "metadata": {},
   "source": [
    "### Defining Model"
   ]
  },
  {
   "cell_type": "code",
   "execution_count": 15,
   "id": "9a986243",
   "metadata": {},
   "outputs": [],
   "source": [
    "def Convolution(input_tensor,filters,kernel_size):\n",
    "    x = Conv2D(filters = filters , kernel_size = kernel_size , padding =\"same\")(input_tensor)\n",
    "    x = BatchNormalization()(x)\n",
    "    x = Activation('relu')(x)\n",
    "    x = MaxPooling2D(pool_size = (2,2))(x)\n",
    "    x = Dropout(0.25)(x)\n",
    "    \n",
    "    return x\n",
    "\n",
    "def Dense_f(input_tensor,nodes):\n",
    "    x = Dense(nodes)(input_tensor)\n",
    "    x = BatchNormalization()(x)\n",
    "    x = Activation('relu')(x)\n",
    "    x = Dropout(0.25)(x)\n",
    "    \n",
    "    return x"
   ]
  },
  {
   "cell_type": "code",
   "execution_count": 16,
   "id": "0038a821",
   "metadata": {},
   "outputs": [],
   "source": [
    "def model_fer(input_shape):\n",
    "    inputs = Input(input_shape)\n",
    "    conv_1 = Convolution(inputs, 64, (3, 3))\n",
    "    conv_2 = Convolution(conv_1, 128, (3, 3))\n",
    "    conv_3 = Convolution(conv_2, 512, (3, 3))\n",
    "    conv_4 = Convolution(conv_3, 512, (3, 3))\n",
    "    \n",
    "    flatten = Flatten()(conv_4)\n",
    "    \n",
    "    dense_1 = Dense_f(flatten, 256)\n",
    "    dense_2 = Dense_f(dense_1, 512)\n",
    "    \n",
    "    output = Dense(7, activation=\"softmax\")(dense_2)\n",
    "    model = Model(inputs=[inputs], outputs=[output])\n",
    "    \n",
    "    opt = Adam(lr=0.001)  # Adjust learning rate\n",
    "    \n",
    "    model.compile(loss='categorical_crossentropy', optimizer=opt, metrics=['accuracy'])\n",
    "    \n",
    "    return model"
   ]
  },
  {
   "cell_type": "code",
   "execution_count": 5,
   "id": "395ed229",
   "metadata": {
    "scrolled": true
   },
   "outputs": [
    {
     "name": "stdout",
     "output_type": "stream",
     "text": [
      "WARNING:tensorflow:From C:\\Users\\Acer\\anaconda3\\lib\\site-packages\\keras\\src\\backend.py:1398: The name tf.executing_eagerly_outside_functions is deprecated. Please use tf.compat.v1.executing_eagerly_outside_functions instead.\n",
      "\n",
      "WARNING:tensorflow:From C:\\Users\\Acer\\anaconda3\\lib\\site-packages\\keras\\src\\layers\\normalization\\batch_normalization.py:979: The name tf.nn.fused_batch_norm is deprecated. Please use tf.compat.v1.nn.fused_batch_norm instead.\n",
      "\n"
     ]
    },
    {
     "name": "stderr",
     "output_type": "stream",
     "text": [
      "WARNING:absl:`lr` is deprecated in Keras optimizer, please use `learning_rate` or use the legacy optimizer, e.g.,tf.keras.optimizers.legacy.Adam.\n"
     ]
    },
    {
     "name": "stdout",
     "output_type": "stream",
     "text": [
      "Model: \"model\"\n",
      "_________________________________________________________________\n",
      " Layer (type)                Output Shape              Param #   \n",
      "=================================================================\n",
      " input_1 (InputLayer)        [(None, 48, 48, 1)]       0         \n",
      "                                                                 \n",
      " conv2d (Conv2D)             (None, 48, 48, 64)        640       \n",
      "                                                                 \n",
      " batch_normalization (Batch  (None, 48, 48, 64)        256       \n",
      " Normalization)                                                  \n",
      "                                                                 \n",
      " activation (Activation)     (None, 48, 48, 64)        0         \n",
      "                                                                 \n",
      " max_pooling2d (MaxPooling2  (None, 24, 24, 64)        0         \n",
      " D)                                                              \n",
      "                                                                 \n",
      " dropout (Dropout)           (None, 24, 24, 64)        0         \n",
      "                                                                 \n",
      " conv2d_1 (Conv2D)           (None, 24, 24, 128)       73856     \n",
      "                                                                 \n",
      " batch_normalization_1 (Bat  (None, 24, 24, 128)       512       \n",
      " chNormalization)                                                \n",
      "                                                                 \n",
      " activation_1 (Activation)   (None, 24, 24, 128)       0         \n",
      "                                                                 \n",
      " max_pooling2d_1 (MaxPoolin  (None, 12, 12, 128)       0         \n",
      " g2D)                                                            \n",
      "                                                                 \n",
      " dropout_1 (Dropout)         (None, 12, 12, 128)       0         \n",
      "                                                                 \n",
      " conv2d_2 (Conv2D)           (None, 12, 12, 512)       590336    \n",
      "                                                                 \n",
      " batch_normalization_2 (Bat  (None, 12, 12, 512)       2048      \n",
      " chNormalization)                                                \n",
      "                                                                 \n",
      " activation_2 (Activation)   (None, 12, 12, 512)       0         \n",
      "                                                                 \n",
      " max_pooling2d_2 (MaxPoolin  (None, 6, 6, 512)         0         \n",
      " g2D)                                                            \n",
      "                                                                 \n",
      " dropout_2 (Dropout)         (None, 6, 6, 512)         0         \n",
      "                                                                 \n",
      " conv2d_3 (Conv2D)           (None, 6, 6, 512)         2359808   \n",
      "                                                                 \n",
      " batch_normalization_3 (Bat  (None, 6, 6, 512)         2048      \n",
      " chNormalization)                                                \n",
      "                                                                 \n",
      " activation_3 (Activation)   (None, 6, 6, 512)         0         \n",
      "                                                                 \n",
      " max_pooling2d_3 (MaxPoolin  (None, 3, 3, 512)         0         \n",
      " g2D)                                                            \n",
      "                                                                 \n",
      " dropout_3 (Dropout)         (None, 3, 3, 512)         0         \n",
      "                                                                 \n",
      " flatten (Flatten)           (None, 4608)              0         \n",
      "                                                                 \n",
      " dense (Dense)               (None, 256)               1179904   \n",
      "                                                                 \n",
      " batch_normalization_4 (Bat  (None, 256)               1024      \n",
      " chNormalization)                                                \n",
      "                                                                 \n",
      " activation_4 (Activation)   (None, 256)               0         \n",
      "                                                                 \n",
      " dropout_4 (Dropout)         (None, 256)               0         \n",
      "                                                                 \n",
      " dense_1 (Dense)             (None, 512)               131584    \n",
      "                                                                 \n",
      " batch_normalization_5 (Bat  (None, 512)               2048      \n",
      " chNormalization)                                                \n",
      "                                                                 \n",
      " activation_5 (Activation)   (None, 512)               0         \n",
      "                                                                 \n",
      " dropout_5 (Dropout)         (None, 512)               0         \n",
      "                                                                 \n",
      " dense_2 (Dense)             (None, 7)                 3591      \n",
      "                                                                 \n",
      "=================================================================\n",
      "Total params: 4347655 (16.58 MB)\n",
      "Trainable params: 4343687 (16.57 MB)\n",
      "Non-trainable params: 3968 (15.50 KB)\n",
      "_________________________________________________________________\n"
     ]
    }
   ],
   "source": [
    "model = model_fer((48,48,1))\n",
    "model.summary()"
   ]
  },
  {
   "cell_type": "markdown",
   "id": "e695ccd3",
   "metadata": {},
   "source": [
    "### Model Initialisation"
   ]
  },
  {
   "cell_type": "code",
   "execution_count": 17,
   "id": "6edc9239",
   "metadata": {},
   "outputs": [
    {
     "name": "stderr",
     "output_type": "stream",
     "text": [
      "WARNING:absl:`lr` is deprecated in Keras optimizer, please use `learning_rate` or use the legacy optimizer, e.g.,tf.keras.optimizers.legacy.Adam.\n"
     ]
    }
   ],
   "source": [
    "from keras.optimizers import RMSprop,SGD,Adam\n",
    "from keras.callbacks import ModelCheckpoint, EarlyStopping, ReduceLROnPlateau\n",
    "\n",
    "checkpoint = ModelCheckpoint(\"model_face3.h5\", monitor='val_acc', verbose=1, save_best_only=True, mode='max')\n",
    "\n",
    "\n",
    "reduce_learningrate = ReduceLROnPlateau(monitor='val_loss',\n",
    "                              factor=0.2,\n",
    "                              patience=3,\n",
    "                              verbose=1,\n",
    "                              min_delta=0.0001)\n",
    "\n",
    "callbacks_list = [checkpoint,reduce_learningrate]\n",
    "\n",
    "\n",
    "\n",
    "model.compile(loss='categorical_crossentropy',\n",
    "              optimizer = Adam(lr=0.001),\n",
    "              metrics=['accuracy'])"
   ]
  },
  {
   "cell_type": "code",
   "execution_count": 18,
   "id": "3464a618",
   "metadata": {},
   "outputs": [],
   "source": [
    "epochs = 35\n",
    "steps_per_epoch = train_generator.n//train_generator.batch_size\n",
    "validation_steps = validation_generator.n//validation_generator.batch_size"
   ]
  },
  {
   "cell_type": "markdown",
   "id": "548686de",
   "metadata": {},
   "source": [
    "### Training Model"
   ]
  },
  {
   "cell_type": "code",
   "execution_count": 19,
   "id": "3bbbe8fa",
   "metadata": {
    "scrolled": true
   },
   "outputs": [
    {
     "name": "stdout",
     "output_type": "stream",
     "text": [
      "Epoch 1/35\n",
      "224/224 [==============================] - ETA: 0s - loss: 0.9530 - accuracy: 0.6419WARNING:tensorflow:Can save best model only with val_acc available, skipping.\n"
     ]
    },
    {
     "name": "stderr",
     "output_type": "stream",
     "text": [
      "WARNING:tensorflow:Can save best model only with val_acc available, skipping.\n"
     ]
    },
    {
     "name": "stdout",
     "output_type": "stream",
     "text": [
      "224/224 [==============================] - 157s 689ms/step - loss: 0.9530 - accuracy: 0.6419 - val_loss: 1.2062 - val_accuracy: 0.5430 - lr: 0.0010\n",
      "Epoch 2/35\n",
      "224/224 [==============================] - ETA: 0s - loss: 0.9360 - accuracy: 0.6479WARNING:tensorflow:Can save best model only with val_acc available, skipping.\n"
     ]
    },
    {
     "name": "stderr",
     "output_type": "stream",
     "text": [
      "WARNING:tensorflow:Can save best model only with val_acc available, skipping.\n"
     ]
    },
    {
     "name": "stdout",
     "output_type": "stream",
     "text": [
      "224/224 [==============================] - 199s 890ms/step - loss: 0.9360 - accuracy: 0.6479 - val_loss: 1.0090 - val_accuracy: 0.6214 - lr: 0.0010\n",
      "Epoch 3/35\n",
      "224/224 [==============================] - ETA: 0s - loss: 0.9095 - accuracy: 0.6573WARNING:tensorflow:Can save best model only with val_acc available, skipping.\n"
     ]
    },
    {
     "name": "stderr",
     "output_type": "stream",
     "text": [
      "WARNING:tensorflow:Can save best model only with val_acc available, skipping.\n"
     ]
    },
    {
     "name": "stdout",
     "output_type": "stream",
     "text": [
      "224/224 [==============================] - 192s 855ms/step - loss: 0.9095 - accuracy: 0.6573 - val_loss: 1.0574 - val_accuracy: 0.6105 - lr: 0.0010\n",
      "Epoch 4/35\n",
      "224/224 [==============================] - ETA: 0s - loss: 0.8829 - accuracy: 0.6690WARNING:tensorflow:Can save best model only with val_acc available, skipping.\n"
     ]
    },
    {
     "name": "stderr",
     "output_type": "stream",
     "text": [
      "WARNING:tensorflow:Can save best model only with val_acc available, skipping.\n"
     ]
    },
    {
     "name": "stdout",
     "output_type": "stream",
     "text": [
      "224/224 [==============================] - 198s 886ms/step - loss: 0.8829 - accuracy: 0.6690 - val_loss: 1.1092 - val_accuracy: 0.5901 - lr: 0.0010\n",
      "Epoch 5/35\n",
      "224/224 [==============================] - ETA: 0s - loss: 0.8603 - accuracy: 0.6752WARNING:tensorflow:Can save best model only with val_acc available, skipping.\n"
     ]
    },
    {
     "name": "stderr",
     "output_type": "stream",
     "text": [
      "WARNING:tensorflow:Can save best model only with val_acc available, skipping.\n"
     ]
    },
    {
     "name": "stdout",
     "output_type": "stream",
     "text": [
      "\n",
      "Epoch 5: ReduceLROnPlateau reducing learning rate to 0.00020000000949949026.\n",
      "224/224 [==============================] - 214s 956ms/step - loss: 0.8603 - accuracy: 0.6752 - val_loss: 1.2235 - val_accuracy: 0.5529 - lr: 0.0010\n",
      "Epoch 6/35\n",
      "224/224 [==============================] - ETA: 0s - loss: 0.7857 - accuracy: 0.7096WARNING:tensorflow:Can save best model only with val_acc available, skipping.\n"
     ]
    },
    {
     "name": "stderr",
     "output_type": "stream",
     "text": [
      "WARNING:tensorflow:Can save best model only with val_acc available, skipping.\n"
     ]
    },
    {
     "name": "stdout",
     "output_type": "stream",
     "text": [
      "224/224 [==============================] - 225s 1s/step - loss: 0.7857 - accuracy: 0.7096 - val_loss: 0.9453 - val_accuracy: 0.6557 - lr: 2.0000e-04\n",
      "Epoch 7/35\n",
      "224/224 [==============================] - ETA: 0s - loss: 0.7522 - accuracy: 0.7199WARNING:tensorflow:Can save best model only with val_acc available, skipping.\n"
     ]
    },
    {
     "name": "stderr",
     "output_type": "stream",
     "text": [
      "WARNING:tensorflow:Can save best model only with val_acc available, skipping.\n"
     ]
    },
    {
     "name": "stdout",
     "output_type": "stream",
     "text": [
      "224/224 [==============================] - 199s 888ms/step - loss: 0.7522 - accuracy: 0.7199 - val_loss: 0.9519 - val_accuracy: 0.6578 - lr: 2.0000e-04\n",
      "Epoch 8/35\n",
      "224/224 [==============================] - ETA: 0s - loss: 0.7286 - accuracy: 0.7277WARNING:tensorflow:Can save best model only with val_acc available, skipping.\n"
     ]
    },
    {
     "name": "stderr",
     "output_type": "stream",
     "text": [
      "WARNING:tensorflow:Can save best model only with val_acc available, skipping.\n"
     ]
    },
    {
     "name": "stdout",
     "output_type": "stream",
     "text": [
      "224/224 [==============================] - 198s 882ms/step - loss: 0.7286 - accuracy: 0.7277 - val_loss: 0.9834 - val_accuracy: 0.6508 - lr: 2.0000e-04\n",
      "Epoch 9/35\n",
      "224/224 [==============================] - ETA: 0s - loss: 0.7118 - accuracy: 0.7339WARNING:tensorflow:Can save best model only with val_acc available, skipping.\n"
     ]
    },
    {
     "name": "stderr",
     "output_type": "stream",
     "text": [
      "WARNING:tensorflow:Can save best model only with val_acc available, skipping.\n"
     ]
    },
    {
     "name": "stdout",
     "output_type": "stream",
     "text": [
      "\n",
      "Epoch 9: ReduceLROnPlateau reducing learning rate to 4.0000001899898055e-05.\n",
      "224/224 [==============================] - 199s 886ms/step - loss: 0.7118 - accuracy: 0.7339 - val_loss: 0.9710 - val_accuracy: 0.6551 - lr: 2.0000e-04\n",
      "Epoch 10/35\n",
      "224/224 [==============================] - ETA: 0s - loss: 0.6918 - accuracy: 0.7388WARNING:tensorflow:Can save best model only with val_acc available, skipping.\n"
     ]
    },
    {
     "name": "stderr",
     "output_type": "stream",
     "text": [
      "WARNING:tensorflow:Can save best model only with val_acc available, skipping.\n"
     ]
    },
    {
     "name": "stdout",
     "output_type": "stream",
     "text": [
      "224/224 [==============================] - 223s 995ms/step - loss: 0.6918 - accuracy: 0.7388 - val_loss: 0.9481 - val_accuracy: 0.6632 - lr: 4.0000e-05\n",
      "Epoch 11/35\n",
      "224/224 [==============================] - ETA: 0s - loss: 0.6908 - accuracy: 0.7433WARNING:tensorflow:Can save best model only with val_acc available, skipping.\n"
     ]
    },
    {
     "name": "stderr",
     "output_type": "stream",
     "text": [
      "WARNING:tensorflow:Can save best model only with val_acc available, skipping.\n"
     ]
    },
    {
     "name": "stdout",
     "output_type": "stream",
     "text": [
      "224/224 [==============================] - 204s 908ms/step - loss: 0.6908 - accuracy: 0.7433 - val_loss: 0.9561 - val_accuracy: 0.6617 - lr: 4.0000e-05\n",
      "Epoch 12/35\n",
      "224/224 [==============================] - ETA: 0s - loss: 0.6774 - accuracy: 0.7478WARNING:tensorflow:Can save best model only with val_acc available, skipping.\n"
     ]
    },
    {
     "name": "stderr",
     "output_type": "stream",
     "text": [
      "WARNING:tensorflow:Can save best model only with val_acc available, skipping.\n"
     ]
    },
    {
     "name": "stdout",
     "output_type": "stream",
     "text": [
      "\n",
      "Epoch 12: ReduceLROnPlateau reducing learning rate to 8.000000525498762e-06.\n",
      "224/224 [==============================] - 202s 901ms/step - loss: 0.6774 - accuracy: 0.7478 - val_loss: 0.9574 - val_accuracy: 0.6617 - lr: 4.0000e-05\n",
      "Epoch 13/35\n",
      "224/224 [==============================] - ETA: 0s - loss: 0.6713 - accuracy: 0.7509WARNING:tensorflow:Can save best model only with val_acc available, skipping.\n"
     ]
    },
    {
     "name": "stderr",
     "output_type": "stream",
     "text": [
      "WARNING:tensorflow:Can save best model only with val_acc available, skipping.\n"
     ]
    },
    {
     "name": "stdout",
     "output_type": "stream",
     "text": [
      "224/224 [==============================] - 205s 915ms/step - loss: 0.6713 - accuracy: 0.7509 - val_loss: 0.9546 - val_accuracy: 0.6649 - lr: 8.0000e-06\n",
      "Epoch 14/35\n",
      "224/224 [==============================] - ETA: 0s - loss: 0.6708 - accuracy: 0.7517WARNING:tensorflow:Can save best model only with val_acc available, skipping.\n"
     ]
    },
    {
     "name": "stderr",
     "output_type": "stream",
     "text": [
      "WARNING:tensorflow:Can save best model only with val_acc available, skipping.\n"
     ]
    },
    {
     "name": "stdout",
     "output_type": "stream",
     "text": [
      "224/224 [==============================] - 197s 879ms/step - loss: 0.6708 - accuracy: 0.7517 - val_loss: 0.9514 - val_accuracy: 0.6666 - lr: 8.0000e-06\n",
      "Epoch 15/35\n",
      "224/224 [==============================] - ETA: 0s - loss: 0.6673 - accuracy: 0.7534WARNING:tensorflow:Can save best model only with val_acc available, skipping.\n"
     ]
    },
    {
     "name": "stderr",
     "output_type": "stream",
     "text": [
      "WARNING:tensorflow:Can save best model only with val_acc available, skipping.\n"
     ]
    },
    {
     "name": "stdout",
     "output_type": "stream",
     "text": [
      "\n",
      "Epoch 15: ReduceLROnPlateau reducing learning rate to 1.6000001778593287e-06.\n",
      "224/224 [==============================] - 202s 900ms/step - loss: 0.6673 - accuracy: 0.7534 - val_loss: 0.9509 - val_accuracy: 0.6643 - lr: 8.0000e-06\n",
      "Epoch 16/35\n",
      "224/224 [==============================] - ETA: 0s - loss: 0.6699 - accuracy: 0.7509WARNING:tensorflow:Can save best model only with val_acc available, skipping.\n"
     ]
    },
    {
     "name": "stderr",
     "output_type": "stream",
     "text": [
      "WARNING:tensorflow:Can save best model only with val_acc available, skipping.\n"
     ]
    },
    {
     "name": "stdout",
     "output_type": "stream",
     "text": [
      "224/224 [==============================] - 203s 907ms/step - loss: 0.6699 - accuracy: 0.7509 - val_loss: 0.9579 - val_accuracy: 0.6634 - lr: 1.6000e-06\n",
      "Epoch 17/35\n",
      "224/224 [==============================] - ETA: 0s - loss: 0.6709 - accuracy: 0.7518WARNING:tensorflow:Can save best model only with val_acc available, skipping.\n"
     ]
    },
    {
     "name": "stderr",
     "output_type": "stream",
     "text": [
      "WARNING:tensorflow:Can save best model only with val_acc available, skipping.\n"
     ]
    },
    {
     "name": "stdout",
     "output_type": "stream",
     "text": [
      "224/224 [==============================] - 200s 891ms/step - loss: 0.6709 - accuracy: 0.7518 - val_loss: 0.9487 - val_accuracy: 0.6643 - lr: 1.6000e-06\n",
      "Epoch 18/35\n",
      "224/224 [==============================] - ETA: 0s - loss: 0.6720 - accuracy: 0.7474WARNING:tensorflow:Can save best model only with val_acc available, skipping.\n"
     ]
    },
    {
     "name": "stderr",
     "output_type": "stream",
     "text": [
      "WARNING:tensorflow:Can save best model only with val_acc available, skipping.\n"
     ]
    },
    {
     "name": "stdout",
     "output_type": "stream",
     "text": [
      "\n",
      "Epoch 18: ReduceLROnPlateau reducing learning rate to 3.200000264769187e-07.\n",
      "224/224 [==============================] - 202s 901ms/step - loss: 0.6720 - accuracy: 0.7474 - val_loss: 0.9555 - val_accuracy: 0.6646 - lr: 1.6000e-06\n",
      "Epoch 19/35\n",
      "224/224 [==============================] - ETA: 0s - loss: 0.6679 - accuracy: 0.7514WARNING:tensorflow:Can save best model only with val_acc available, skipping.\n"
     ]
    },
    {
     "name": "stderr",
     "output_type": "stream",
     "text": [
      "WARNING:tensorflow:Can save best model only with val_acc available, skipping.\n"
     ]
    },
    {
     "name": "stdout",
     "output_type": "stream",
     "text": [
      "224/224 [==============================] - 203s 905ms/step - loss: 0.6679 - accuracy: 0.7514 - val_loss: 0.9569 - val_accuracy: 0.6622 - lr: 3.2000e-07\n",
      "Epoch 20/35\n",
      "224/224 [==============================] - ETA: 0s - loss: 0.6621 - accuracy: 0.7516WARNING:tensorflow:Can save best model only with val_acc available, skipping.\n"
     ]
    },
    {
     "name": "stderr",
     "output_type": "stream",
     "text": [
      "WARNING:tensorflow:Can save best model only with val_acc available, skipping.\n"
     ]
    },
    {
     "name": "stdout",
     "output_type": "stream",
     "text": [
      "224/224 [==============================] - 314s 1s/step - loss: 0.6621 - accuracy: 0.7516 - val_loss: 0.9578 - val_accuracy: 0.6607 - lr: 3.2000e-07\n",
      "Epoch 21/35\n",
      "224/224 [==============================] - ETA: 0s - loss: 0.6689 - accuracy: 0.7488WARNING:tensorflow:Can save best model only with val_acc available, skipping.\n"
     ]
    },
    {
     "name": "stderr",
     "output_type": "stream",
     "text": [
      "WARNING:tensorflow:Can save best model only with val_acc available, skipping.\n"
     ]
    },
    {
     "name": "stdout",
     "output_type": "stream",
     "text": [
      "\n",
      "Epoch 21: ReduceLROnPlateau reducing learning rate to 6.400000529538374e-08.\n",
      "224/224 [==============================] - 378s 2s/step - loss: 0.6689 - accuracy: 0.7488 - val_loss: 0.9490 - val_accuracy: 0.6657 - lr: 3.2000e-07\n",
      "Epoch 22/35\n",
      "224/224 [==============================] - ETA: 0s - loss: 0.6698 - accuracy: 0.7505WARNING:tensorflow:Can save best model only with val_acc available, skipping.\n"
     ]
    },
    {
     "name": "stderr",
     "output_type": "stream",
     "text": [
      "WARNING:tensorflow:Can save best model only with val_acc available, skipping.\n"
     ]
    },
    {
     "name": "stdout",
     "output_type": "stream",
     "text": [
      "224/224 [==============================] - 910s 4s/step - loss: 0.6698 - accuracy: 0.7505 - val_loss: 0.9557 - val_accuracy: 0.6659 - lr: 6.4000e-08\n",
      "Epoch 23/35\n",
      "224/224 [==============================] - ETA: 0s - loss: 0.6664 - accuracy: 0.7533WARNING:tensorflow:Can save best model only with val_acc available, skipping.\n"
     ]
    },
    {
     "name": "stderr",
     "output_type": "stream",
     "text": [
      "WARNING:tensorflow:Can save best model only with val_acc available, skipping.\n"
     ]
    },
    {
     "name": "stdout",
     "output_type": "stream",
     "text": [
      "224/224 [==============================] - 379s 2s/step - loss: 0.6664 - accuracy: 0.7533 - val_loss: 0.9488 - val_accuracy: 0.6660 - lr: 6.4000e-08\n",
      "Epoch 24/35\n",
      "224/224 [==============================] - ETA: 0s - loss: 0.6643 - accuracy: 0.7525WARNING:tensorflow:Can save best model only with val_acc available, skipping.\n"
     ]
    },
    {
     "name": "stderr",
     "output_type": "stream",
     "text": [
      "WARNING:tensorflow:Can save best model only with val_acc available, skipping.\n"
     ]
    },
    {
     "name": "stdout",
     "output_type": "stream",
     "text": [
      "\n",
      "Epoch 24: ReduceLROnPlateau reducing learning rate to 1.2800001059076749e-08.\n",
      "224/224 [==============================] - 381s 2s/step - loss: 0.6643 - accuracy: 0.7525 - val_loss: 0.9488 - val_accuracy: 0.6676 - lr: 6.4000e-08\n",
      "Epoch 25/35\n",
      "224/224 [==============================] - ETA: 0s - loss: 0.6606 - accuracy: 0.7517WARNING:tensorflow:Can save best model only with val_acc available, skipping.\n"
     ]
    },
    {
     "name": "stderr",
     "output_type": "stream",
     "text": [
      "WARNING:tensorflow:Can save best model only with val_acc available, skipping.\n"
     ]
    },
    {
     "name": "stdout",
     "output_type": "stream",
     "text": [
      "224/224 [==============================] - 379s 2s/step - loss: 0.6606 - accuracy: 0.7517 - val_loss: 0.9546 - val_accuracy: 0.6603 - lr: 1.2800e-08\n",
      "Epoch 26/35\n",
      "224/224 [==============================] - ETA: 0s - loss: 0.6689 - accuracy: 0.7501WARNING:tensorflow:Can save best model only with val_acc available, skipping.\n"
     ]
    },
    {
     "name": "stderr",
     "output_type": "stream",
     "text": [
      "WARNING:tensorflow:Can save best model only with val_acc available, skipping.\n"
     ]
    },
    {
     "name": "stdout",
     "output_type": "stream",
     "text": [
      "224/224 [==============================] - 381s 2s/step - loss: 0.6689 - accuracy: 0.7501 - val_loss: 0.9530 - val_accuracy: 0.6650 - lr: 1.2800e-08\n",
      "Epoch 27/35\n",
      "224/224 [==============================] - ETA: 0s - loss: 0.6681 - accuracy: 0.7524WARNING:tensorflow:Can save best model only with val_acc available, skipping.\n"
     ]
    },
    {
     "name": "stderr",
     "output_type": "stream",
     "text": [
      "WARNING:tensorflow:Can save best model only with val_acc available, skipping.\n"
     ]
    },
    {
     "name": "stdout",
     "output_type": "stream",
     "text": [
      "\n",
      "Epoch 27: ReduceLROnPlateau reducing learning rate to 2.5600002118153498e-09.\n",
      "224/224 [==============================] - 380s 2s/step - loss: 0.6681 - accuracy: 0.7524 - val_loss: 0.9541 - val_accuracy: 0.6636 - lr: 1.2800e-08\n",
      "Epoch 28/35\n",
      "224/224 [==============================] - ETA: 0s - loss: 0.6649 - accuracy: 0.7526WARNING:tensorflow:Can save best model only with val_acc available, skipping.\n"
     ]
    },
    {
     "name": "stderr",
     "output_type": "stream",
     "text": [
      "WARNING:tensorflow:Can save best model only with val_acc available, skipping.\n"
     ]
    },
    {
     "name": "stdout",
     "output_type": "stream",
     "text": [
      "224/224 [==============================] - 316s 1s/step - loss: 0.6649 - accuracy: 0.7526 - val_loss: 0.9545 - val_accuracy: 0.6645 - lr: 2.5600e-09\n",
      "Epoch 29/35\n",
      "224/224 [==============================] - ETA: 0s - loss: 0.6674 - accuracy: 0.7508WARNING:tensorflow:Can save best model only with val_acc available, skipping.\n"
     ]
    },
    {
     "name": "stderr",
     "output_type": "stream",
     "text": [
      "WARNING:tensorflow:Can save best model only with val_acc available, skipping.\n"
     ]
    },
    {
     "name": "stdout",
     "output_type": "stream",
     "text": [
      "224/224 [==============================] - 182s 811ms/step - loss: 0.6674 - accuracy: 0.7508 - val_loss: 0.9540 - val_accuracy: 0.6632 - lr: 2.5600e-09\n",
      "Epoch 30/35\n",
      "224/224 [==============================] - ETA: 0s - loss: 0.6734 - accuracy: 0.7479WARNING:tensorflow:Can save best model only with val_acc available, skipping.\n"
     ]
    },
    {
     "name": "stderr",
     "output_type": "stream",
     "text": [
      "WARNING:tensorflow:Can save best model only with val_acc available, skipping.\n"
     ]
    },
    {
     "name": "stdout",
     "output_type": "stream",
     "text": [
      "\n",
      "Epoch 30: ReduceLROnPlateau reducing learning rate to 5.1200004236307e-10.\n",
      "224/224 [==============================] - 196s 875ms/step - loss: 0.6734 - accuracy: 0.7479 - val_loss: 0.9560 - val_accuracy: 0.6593 - lr: 2.5600e-09\n",
      "Epoch 31/35\n",
      "224/224 [==============================] - ETA: 0s - loss: 0.6718 - accuracy: 0.7507WARNING:tensorflow:Can save best model only with val_acc available, skipping.\n"
     ]
    },
    {
     "name": "stderr",
     "output_type": "stream",
     "text": [
      "WARNING:tensorflow:Can save best model only with val_acc available, skipping.\n"
     ]
    },
    {
     "name": "stdout",
     "output_type": "stream",
     "text": [
      "224/224 [==============================] - 201s 898ms/step - loss: 0.6718 - accuracy: 0.7507 - val_loss: 0.9503 - val_accuracy: 0.6659 - lr: 5.1200e-10\n",
      "Epoch 32/35\n",
      "224/224 [==============================] - ETA: 0s - loss: 0.6680 - accuracy: 0.7508WARNING:tensorflow:Can save best model only with val_acc available, skipping.\n"
     ]
    },
    {
     "name": "stderr",
     "output_type": "stream",
     "text": [
      "WARNING:tensorflow:Can save best model only with val_acc available, skipping.\n"
     ]
    },
    {
     "name": "stdout",
     "output_type": "stream",
     "text": [
      "224/224 [==============================] - 195s 870ms/step - loss: 0.6680 - accuracy: 0.7508 - val_loss: 0.9556 - val_accuracy: 0.6611 - lr: 5.1200e-10\n",
      "Epoch 33/35\n",
      "224/224 [==============================] - ETA: 0s - loss: 0.6665 - accuracy: 0.7534WARNING:tensorflow:Can save best model only with val_acc available, skipping.\n"
     ]
    },
    {
     "name": "stderr",
     "output_type": "stream",
     "text": [
      "WARNING:tensorflow:Can save best model only with val_acc available, skipping.\n"
     ]
    },
    {
     "name": "stdout",
     "output_type": "stream",
     "text": [
      "\n",
      "Epoch 33: ReduceLROnPlateau reducing learning rate to 1.0240001069306004e-10.\n",
      "224/224 [==============================] - 189s 843ms/step - loss: 0.6665 - accuracy: 0.7534 - val_loss: 0.9521 - val_accuracy: 0.6635 - lr: 5.1200e-10\n",
      "Epoch 34/35\n",
      "224/224 [==============================] - ETA: 0s - loss: 0.6690 - accuracy: 0.7500WARNING:tensorflow:Can save best model only with val_acc available, skipping.\n"
     ]
    },
    {
     "name": "stderr",
     "output_type": "stream",
     "text": [
      "WARNING:tensorflow:Can save best model only with val_acc available, skipping.\n"
     ]
    },
    {
     "name": "stdout",
     "output_type": "stream",
     "text": [
      "224/224 [==============================] - 200s 891ms/step - loss: 0.6690 - accuracy: 0.7500 - val_loss: 0.9558 - val_accuracy: 0.6645 - lr: 1.0240e-10\n",
      "Epoch 35/35\n",
      "224/224 [==============================] - ETA: 0s - loss: 0.6679 - accuracy: 0.7494WARNING:tensorflow:Can save best model only with val_acc available, skipping.\n"
     ]
    },
    {
     "name": "stderr",
     "output_type": "stream",
     "text": [
      "WARNING:tensorflow:Can save best model only with val_acc available, skipping.\n"
     ]
    },
    {
     "name": "stdout",
     "output_type": "stream",
     "text": [
      "\b\b\b\b\b\b\b\b\b\b\b\b\b\b\b\b\b\b\b\b\b\b\b\b\b\b\b\b\b\b\b\b\b\b\b\b\b\b\b\b\b\b\b\b\b\b\b\b\b\b\b\b\b\b\b\b\b\b\b\b\b\b\b\b\b\b\b\b\b\b\b\b\b\b\b\b\b\b\b\b\b\b\b\b\r",
      "224/224 [==============================] - 196s 877ms/step - loss: 0.6679 - accuracy: 0.7494 - val_loss: 0.9527 - val_accuracy: 0.6621 - lr: 1.0240e-10\n"
     ]
    }
   ],
   "source": [
    "history = model.fit(\n",
    "x = train_generator,\n",
    "epochs = epochs,\n",
    "steps_per_epoch = steps_per_epoch,\n",
    "validation_data = validation_generator,\n",
    "validation_steps = validation_steps,\n",
    "callbacks = callbacks_list)"
   ]
  },
  {
   "cell_type": "markdown",
   "id": "194ddbca",
   "metadata": {},
   "source": [
    "### Evaluating Model"
   ]
  },
  {
   "cell_type": "code",
   "execution_count": 20,
   "id": "f4de1cf0",
   "metadata": {},
   "outputs": [
    {
     "name": "stdout",
     "output_type": "stream",
     "text": [
      "57/57 [==============================] - 11s 198ms/step - loss: 0.9520 - accuracy: 0.6660\n"
     ]
    },
    {
     "data": {
      "text/plain": [
       "[0.9520290493965149, 0.6660164594650269]"
      ]
     },
     "execution_count": 20,
     "metadata": {},
     "output_type": "execute_result"
    }
   ],
   "source": [
    "model.evaluate(validation_generator)"
   ]
  },
  {
   "cell_type": "code",
   "execution_count": 22,
   "id": "742482eb",
   "metadata": {},
   "outputs": [
    {
     "data": {
      "image/png": "[encoded data removed]",
      "text/plain": [
       "<Figure size 640x480 with 1 Axes>"
      ]
     },
     "metadata": {},
     "output_type": "display_data"
    }
   ],
   "source": [
    "plt.plot(history.history['loss'])\n",
    "plt.plot(history.history['val_loss'])\n",
    "plt.title('Model Loss')\n",
    "plt.legend(['Train','Validation'],loc='upper left')\n",
    "plt.subplots_adjust(top=1.0,bottom = 0.0,right = 0.95,left = 0.0,hspace = 0.25,wspace = 0.35)"
   ]
  },
  {
   "cell_type": "code",
   "execution_count": 23,
   "id": "e52a4e61",
   "metadata": {},
   "outputs": [
    {
     "data": {
      "image/png": "[encoded data removed]",
      "text/plain": [
       "<Figure size 640x480 with 1 Axes>"
      ]
     },
     "metadata": {},
     "output_type": "display_data"
    }
   ],
   "source": [
    "plt.plot(history.history['accuracy'])\n",
    "plt.plot(history.history['val_loss'])\n",
    "plt.title('Model Accuracy')\n",
    "plt.legend(['Train','Validation'],loc='upper left')\n",
    "plt.subplots_adjust(top=1.0,bottom = 0.0,right = 0.95,left = 0.0,hspace = 0.25,wspace = 0.35)"
   ]
  },
  {
   "cell_type": "code",
   "execution_count": 24,
   "id": "4e989a9e",
   "metadata": {},
   "outputs": [],
   "source": [
    "model_json = model.to_json()\n",
    "with open(\"model_face.json\",\"w\") as json_file:\n",
    "    json_file.write(model_json)"
   ]
  },
  {
   "cell_type": "code",
   "execution_count": 25,
   "id": "e9b88c5d",
   "metadata": {},
   "outputs": [
    {
     "name": "stderr",
     "output_type": "stream",
     "text": [
      "C:\\Users\\Acer\\anaconda3\\lib\\site-packages\\keras\\src\\engine\\training.py:3103: UserWarning: You are saving your model as an HDF5 file via `model.save()`. This file format is considered legacy. We recommend using instead the native Keras format, e.g. `model.save('my_model.keras')`.\n",
      "  saving_api.save_model(\n"
     ]
    }
   ],
   "source": [
    "model.save('model_face.h5')"
   ]
  },
  {
   "cell_type": "code",
   "execution_count": null,
   "id": "3a5ce85a",
   "metadata": {},
   "outputs": [],
   "source": []
  },
  {
   "cell_type": "code",
   "execution_count": null,
   "id": "5c6e19be",
   "metadata": {},
   "outputs": [],
   "source": []
  },
  {
   "cell_type": "code",
   "execution_count": null,
   "id": "3929a93e",
   "metadata": {},
   "outputs": [],
   "source": []
  },
  {
   "cell_type": "code",
   "execution_count": null,
   "id": "d8acfb68",
   "metadata": {},
   "outputs": [],
   "source": []
  },
  {
   "cell_type": "code",
   "execution_count": null,
   "id": "6e782d96",
   "metadata": {},
   "outputs": [],
   "source": []
  },
  {
   "cell_type": "code",
   "execution_count": null,
   "id": "b687441a",
   "metadata": {},
   "outputs": [],
   "source": []
  },
  {
   "cell_type": "code",
   "execution_count": null,
   "id": "530904ce",
   "metadata": {},
   "outputs": [],
   "source": []
  }
 ],
 "metadata": {
  "kernelspec": {
   "display_name": "Python 3 (ipykernel)",
   "language": "python",
   "name": "python3"
  },
  "language_info": {
   "codemirror_mode": {
    "name": "ipython",
    "version": 3
   },
   "file_extension": ".py",
   "mimetype": "text/x-python",
   "name": "python",
   "nbconvert_exporter": "python",
   "pygments_lexer": "ipython3",
   "version": "3.10.9"
  }
 },
 "nbformat": 4,
 "nbformat_minor": 5
}
